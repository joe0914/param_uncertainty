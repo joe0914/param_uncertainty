{
 "cells": [
  {
   "cell_type": "markdown",
   "metadata": {},
   "source": [
    "Added State method for parametric uncertainty, with added parameter state in control (Inverted Pendulum Example)\n",
    "\n",
    "Objectives:\n",
    "See if theory holds for control and state affine system\n"
   ]
  },
  {
   "cell_type": "code",
   "execution_count": null,
   "metadata": {},
   "outputs": [],
   "source": [
    "import warnings\n",
    "warnings.filterwarnings(\"ignore\", category=FutureWarning)\n",
    "warnings.filterwarnings(\"ignore\", category=UserWarning, module=\"matplotlib\")\n",
    "from matplotlib import MatplotlibDeprecationWarning\n",
    "warnings.filterwarnings(\"ignore\", category=MatplotlibDeprecationWarning)\n",
    "import matplotlib.pyplot as plt\n",
    "import jax.numpy as jnp\n",
    "import jax\n",
    "import numpy as np\n",
    "\n",
    "import matplotlib\n",
    "import pickle as pkl\n",
    "\n",
    "from scipy.interpolate import interp1d\n",
    "from matplotlib.animation import FuncAnimation\n",
    "from mpl_toolkits.axes_grid1 import make_axes_locatable\n",
    "from IPython.display import HTML\n",
    "\n",
    "import hj_reachability as hj\n",
    "import utils"
   ]
  },
  {
   "cell_type": "markdown",
   "metadata": {},
   "source": [
    "Setup Problem (dynamics, environment)"
   ]
  },
  {
   "cell_type": "code",
   "execution_count": null,
   "metadata": {},
   "outputs": [],
   "source": [
    "class inv_pend(hj.ControlAndDisturbanceAffineDynamics):\n",
    "    def __init__(self, uMax=10, dMin=1, dMax=2, params=None,\n",
    "                 control_mode=\"min\", disturbance_mode=\"max\",\n",
    "                 control_space=None, disturbance_space=None\n",
    "                 ):\n",
    "        self.uMax = jnp.array(uMax)\n",
    "        self.dMin = jnp.array(dMin)\n",
    "        self.dMax = jnp.array(dMax)\n",
    "        if control_space is None:\n",
    "            control_space = hj.sets.Box(lo=jnp.array([-self.uMax]), hi=jnp.array([self.uMax]))\n",
    "        if disturbance_space is None:\n",
    "            disturbance_space = hj.sets.Box(lo=jnp.array([self.dMin]), hi=jnp.array([self.dMax]))\n",
    "        super().__init__(params, control_mode, disturbance_mode, control_space, disturbance_space)\n",
    "\n",
    "    def __call__(self, state, control, disturbance, time):\n",
    "        dx1 = state[1]\n",
    "        dx2 = -9.81*state[3]*jnp.sin(state[0]+jnp.pi)+state[3]*control[0]\n",
    "        dx3 = 0 #Parameteric dim, represented as nu\n",
    "        return jnp.array([dx1, dx2, dx3])\n",
    "\n",
    "    #Don't need to define control jacobian as there's only 1 control input\n",
    "    def control_jacobian(self, state, time):\n",
    "        return jnp.array([\n",
    "            [0],\n",
    "            [state[3]],\n",
    "            [0],\n",
    "        ])\n",
    "    \n",
    "    def disturbance_jacobian(self, state, time):\n",
    "        return jnp.array([\n",
    "            [0],\n",
    "            [0],\n",
    "            [0],\n",
    "        ])\n",
    "    \n",
    "    def open_loop_dynamics(self, state, time):\n",
    "        return jnp.array([state[1], -9.81*state[3]*jnp.sin(state[0]+jnp.pi), 0])"
   ]
  },
  {
   "cell_type": "code",
   "execution_count": null,
   "metadata": {},
   "outputs": [],
   "source": [
    "dyn = inv_pend(uMax=10, dMin=1, dMax=1)"
   ]
  },
  {
   "cell_type": "code",
   "execution_count": null,
   "metadata": {},
   "outputs": [],
   "source": [
    "grid = hj.Grid.from_lattice_parameters_and_boundary_conditions(\n",
    "    domain = hj.sets.Box(lo=np.array([-jnp.pi, -1, 1]), hi=np.array([jnp.pi,1, 2])),\n",
    "    shape = (111, 111, 5),\n",
    "    # Boundary conditions matter for accuracy on the edge of the domain grid.\n",
    "    # E.g. if we have an angle theta \\in [0, 2pi] then we want a periodic boundary in that dim.\n",
    "    periodic_dims=0,\n",
    "    #boundary_conditions=(hj.boundary_conditions.extrapolate_away_from_zero,\n",
    "    #                    hj.boundary_conditions.extrapolate_away_from_zero)\n",
    ")\n",
    "x_init = None\n",
    "direction = 'backward'"
   ]
  }
 ],
 "metadata": {
  "kernelspec": {
   "display_name": "hj_env",
   "language": "python",
   "name": "python3"
  },
  "language_info": {
   "name": "python",
   "version": "3.9.16"
  }
 },
 "nbformat": 4,
 "nbformat_minor": 2
}
